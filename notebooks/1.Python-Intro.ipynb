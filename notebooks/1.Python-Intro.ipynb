{
 "cells": [
  {
   "cell_type": "markdown",
   "metadata": {
    "id": "cWSPdZAHiBx5"
   },
   "source": [
    "# Python for Managers | Classroom | 2021\n",
    "\n",
    "-----\n",
    "## Introduction to Python \n",
    "-----"
   ]
  },
  {
   "cell_type": "markdown",
   "metadata": {},
   "source": [
    "### Hello World!\n",
    "Start your python journey as it is tradition for coders:"
   ]
  },
  {
   "cell_type": "code",
   "execution_count": 4,
   "metadata": {
    "id": "H_9NErgtiByD"
   },
   "outputs": [
    {
     "name": "stdout",
     "output_type": "stream",
     "text": [
      "Text\n"
     ]
    }
   ],
   "source": [
    "print(\"Text\")"
   ]
  },
  {
   "cell_type": "markdown",
   "metadata": {},
   "source": [
    "**Advice**: use the ``TAB`` key while typing a (key)word to \n",
    "* show syntactically correct options\n",
    "* autocomplete\n"
   ]
  },
  {
   "cell_type": "markdown",
   "metadata": {},
   "source": [
    "---"
   ]
  },
  {
   "cell_type": "markdown",
   "metadata": {},
   "source": [
    "### Handling errors\n",
    "* Keep calm\n",
    "* Read the error message\n",
    "* Try to fix it, ask your trainer or copy&paste the last line of the error into a new google search.\n",
    "* Code on!"
   ]
  },
  {
   "cell_type": "code",
   "execution_count": 7,
   "metadata": {},
   "outputs": [
    {
     "ename": "NameError",
     "evalue": "name 'prin' is not defined",
     "output_type": "error",
     "traceback": [
      "\u001b[1;31m---------------------------------------------------------------------------\u001b[0m",
      "\u001b[1;31mNameError\u001b[0m                                 Traceback (most recent call last)",
      "\u001b[1;32m<ipython-input-7-d447da9cf6ca>\u001b[0m in \u001b[0;36m<module>\u001b[1;34m\u001b[0m\n\u001b[1;32m----> 1\u001b[1;33m \u001b[0mprin\u001b[0m\u001b[1;33m(\u001b[0m\u001b[1;34m'hello, world!'\u001b[0m\u001b[1;33m)\u001b[0m\u001b[1;33m\u001b[0m\u001b[1;33m\u001b[0m\u001b[0m\n\u001b[0m",
      "\u001b[1;31mNameError\u001b[0m: name 'prin' is not defined"
     ]
    }
   ],
   "source": [
    "prin('hello, world!')"
   ]
  },
  {
   "cell_type": "code",
   "execution_count": 4,
   "metadata": {},
   "outputs": [
    {
     "ename": "SyntaxError",
     "evalue": "unexpected EOF while parsing (<ipython-input-4-37213b5e3422>, line 1)",
     "output_type": "error",
     "traceback": [
      "\u001b[1;36m  File \u001b[1;32m\"<ipython-input-4-37213b5e3422>\"\u001b[1;36m, line \u001b[1;32m1\u001b[0m\n\u001b[1;33m    print('hello, world!'\u001b[0m\n\u001b[1;37m                         ^\u001b[0m\n\u001b[1;31mSyntaxError\u001b[0m\u001b[1;31m:\u001b[0m unexpected EOF while parsing\n"
     ]
    }
   ],
   "source": [
    "print('hello, world!'"
   ]
  },
  {
   "cell_type": "code",
   "execution_count": 5,
   "metadata": {},
   "outputs": [],
   "source": [
    "# This is a comment. Each line starting with a # will not affect your code, but are very useful for documentation"
   ]
  },
  {
   "cell_type": "markdown",
   "metadata": {},
   "source": [
    "---"
   ]
  },
  {
   "cell_type": "markdown",
   "metadata": {},
   "source": [
    "### Variables  \n",
    "You can assign and store values inside a variable.  \n",
    "Naming of variables:  \n",
    "* It can be only one word.\n",
    "* It can use only letters, numbers and the underscore _\n",
    "* It can't begin with a number."
   ]
  },
  {
   "cell_type": "code",
   "execution_count": 111,
   "metadata": {},
   "outputs": [
    {
     "name": "stdout",
     "output_type": "stream",
     "text": [
      "Edwin\n"
     ]
    }
   ],
   "source": [
    "my_name = \"Edwin\"\n",
    "print(my_name)"
   ]
  },
  {
   "cell_type": "code",
   "execution_count": 112,
   "metadata": {},
   "outputs": [
    {
     "name": "stdout",
     "output_type": "stream",
     "text": [
      "Hello Edwin\n"
     ]
    }
   ],
   "source": [
    "print(\"Hello\", my_name)"
   ]
  },
  {
   "cell_type": "markdown",
   "metadata": {},
   "source": [
    "# TASK"
   ]
  },
  {
   "cell_type": "code",
   "execution_count": 37,
   "metadata": {},
   "outputs": [
    {
     "name": "stdout",
     "output_type": "stream",
     "text": [
      "Josef\n"
     ]
    }
   ],
   "source": [
    "# Change the value of my_name to your first name and print it.\n",
    "# YOUR CODE HERE\n",
    "# my_name = ...\n"
   ]
  },
  {
   "cell_type": "markdown",
   "metadata": {},
   "source": [
    "---"
   ]
  },
  {
   "cell_type": "markdown",
   "metadata": {
    "id": "XvNjkzYIiByG"
   },
   "source": [
    "## Python Data Types "
   ]
  },
  {
   "cell_type": "markdown",
   "metadata": {
    "id": "dDkDsrO5iByH"
   },
   "source": [
    "In this tutorial, we review the most important and mainly used python data types.  "
   ]
  },
  {
   "cell_type": "markdown",
   "metadata": {
    "id": "p9pbl4HSiByI"
   },
   "source": [
    "### Numbers "
   ]
  },
  {
   "cell_type": "markdown",
   "metadata": {
    "id": "DvUg-_37iByJ"
   },
   "source": [
    " - `int` (`integer`, means \"whole\" from latin)\n",
    " \n",
    "$\\mathbb{Z}$ \n"
   ]
  },
  {
   "cell_type": "code",
   "execution_count": 9,
   "metadata": {
    "id": "aNWFvOJQiByK"
   },
   "outputs": [],
   "source": [
    "# int \n",
    "x = 1"
   ]
  },
  {
   "cell_type": "code",
   "execution_count": 10,
   "metadata": {
    "id": "vXn_S-hbiByN"
   },
   "outputs": [
    {
     "name": "stdout",
     "output_type": "stream",
     "text": [
      "1\n"
     ]
    }
   ],
   "source": [
    "print(x)"
   ]
  },
  {
   "cell_type": "markdown",
   "metadata": {},
   "source": [
    "Use ```type()``` to get the data type of your variable"
   ]
  },
  {
   "cell_type": "code",
   "execution_count": null,
   "metadata": {},
   "outputs": [],
   "source": []
  },
  {
   "cell_type": "code",
   "execution_count": 10,
   "metadata": {
    "id": "yGG3NRRviByT"
   },
   "outputs": [
    {
     "name": "stdout",
     "output_type": "stream",
     "text": [
      "9 20 4.0 36\n"
     ]
    }
   ],
   "source": [
    "a = 4 + 5\n",
    "b = 4 * 5\n",
    "c = 20 / 5\n",
    "d = 6**2\n",
    "\n",
    "print(a, b, c, d)"
   ]
  },
  {
   "cell_type": "markdown",
   "metadata": {
    "id": "AHo8mipyiByW"
   },
   "source": [
    " - `float` (`floating point number`)\n",
    " \n",
    " $\\mathbb{R}$ "
   ]
  },
  {
   "cell_type": "code",
   "execution_count": 13,
   "metadata": {
    "id": "-0xfnHW8iByX"
   },
   "outputs": [],
   "source": [
    "# float \n",
    "# !!!Care!!! The decimal symbol is a dot . not a comma ,\n",
    "y = 1.01111"
   ]
  },
  {
   "cell_type": "code",
   "execution_count": 14,
   "metadata": {
    "id": "L0jX-o8piBya"
   },
   "outputs": [
    {
     "name": "stdout",
     "output_type": "stream",
     "text": [
      "1.01111\n",
      "<class 'float'>\n"
     ]
    }
   ],
   "source": []
  },
  {
   "cell_type": "code",
   "execution_count": 39,
   "metadata": {
    "id": "DpWfnXtKiBye",
    "scrolled": true
   },
   "outputs": [
    {
     "name": "stdout",
     "output_type": "stream",
     "text": [
      "9.3 22.36 1.25\n"
     ]
    }
   ],
   "source": [
    "a = 4.2 + 5.1\n",
    "b = 4.3 * 5.2\n",
    "c = 5.0 / 4.0\n",
    "\n",
    "print(a, b, c)"
   ]
  },
  {
   "cell_type": "code",
   "execution_count": 14,
   "metadata": {},
   "outputs": [
    {
     "name": "stdout",
     "output_type": "stream",
     "text": [
      "4.8\n"
     ]
    }
   ],
   "source": [
    "int_number = 2\n",
    "float_number = 2.4\n",
    "result =int_number * float_number\n",
    "print(result)"
   ]
  },
  {
   "cell_type": "markdown",
   "metadata": {
    "id": "pIy3Q5ceiByz"
   },
   "source": [
    "## str(String)\n",
    "* Text"
   ]
  },
  {
   "cell_type": "code",
   "execution_count": 15,
   "metadata": {
    "id": "_iDmpLJpiBy0"
   },
   "outputs": [
    {
     "name": "stdout",
     "output_type": "stream",
     "text": [
      "abc\n"
     ]
    }
   ],
   "source": [
    "x = \"abc\"\n",
    "print(x)"
   ]
  },
  {
   "cell_type": "code",
   "execution_count": 16,
   "metadata": {},
   "outputs": [
    {
     "data": {
      "text/plain": [
       "str"
      ]
     },
     "execution_count": 16,
     "metadata": {},
     "output_type": "execute_result"
    }
   ],
   "source": []
  },
  {
   "cell_type": "code",
   "execution_count": 26,
   "metadata": {
    "id": "oWo5qOqCiBy7"
   },
   "outputs": [
    {
     "name": "stdout",
     "output_type": "stream",
     "text": [
      "HelloWorld\n"
     ]
    }
   ],
   "source": [
    "a = 'Hello'\n",
    "b = \"World\"\n",
    "s = a + b\n",
    "print(s)"
   ]
  },
  {
   "cell_type": "markdown",
   "metadata": {},
   "source": [
    "Using \"*\""
   ]
  },
  {
   "cell_type": "code",
   "execution_count": 27,
   "metadata": {
    "id": "Yj41Mb8piBy_"
   },
   "outputs": [
    {
     "name": "stdout",
     "output_type": "stream",
     "text": [
      "WorldWorldWorld\n"
     ]
    }
   ],
   "source": [
    "print(b * 3)"
   ]
  },
  {
   "cell_type": "markdown",
   "metadata": {},
   "source": [
    "You can \"slice\" a text into subparts like this:"
   ]
  },
  {
   "cell_type": "code",
   "execution_count": 30,
   "metadata": {
    "id": "iF__20l_iBzG"
   },
   "outputs": [
    {
     "name": "stdout",
     "output_type": "stream",
     "text": [
      "HelloWorld\n",
      "H\n",
      "e\n",
      "llo\n",
      "lloWorld\n",
      "d\n"
     ]
    }
   ],
   "source": [
    "print(s)        # Complete string\n",
    "print(s[0])     # First character of the string. We start counting from zero!\n",
    "print(s[1])     # Second character of the string\n",
    "print(s[2:5])   # String starting from 3rd to 5th (indexes 2, 3 and 4)\n",
    "print(s[2:])    # String starting from 3rd character\n",
    "print(s[-1])    # Last character"
   ]
  },
  {
   "cell_type": "markdown",
   "metadata": {},
   "source": [
    "# TASK"
   ]
  },
  {
   "cell_type": "code",
   "execution_count": null,
   "metadata": {},
   "outputs": [],
   "source": [
    "# Define a new variable \"shoe_size\" and assign to it your shoe size. Divide this number by 2.5 and print it.  \n",
    "### YOUR CODE HERE\n",
    "\n",
    "# Print the last 3 characters of \"my_name\"\n",
    "### YOUR CODE HERE\n"
   ]
  },
  {
   "cell_type": "markdown",
   "metadata": {},
   "source": [
    "---"
   ]
  },
  {
   "cell_type": "markdown",
   "metadata": {
    "id": "m6PBWNvAiBzK"
   },
   "source": [
    "## Advanced Data Types"
   ]
  },
  {
   "cell_type": "markdown",
   "metadata": {
    "id": "oOJqbq8LiBzL"
   },
   "source": [
    "### list "
   ]
  },
  {
   "cell_type": "markdown",
   "metadata": {},
   "source": [
    "list = list of multiple values that are assigned to a single variable. python recognizes it if you write the values in [ ] and seperate it with , (commas)"
   ]
  },
  {
   "cell_type": "code",
   "execution_count": 23,
   "metadata": {
    "id": "-kMiu2PeiBzM"
   },
   "outputs": [
    {
     "data": {
      "text/plain": [
       "[33450, 34010, 33990, 33200]"
      ]
     },
     "execution_count": 23,
     "metadata": {},
     "output_type": "execute_result"
    }
   ],
   "source": [
    "values = [33450, 34010, 33990, 33200]\n",
    "values"
   ]
  },
  {
   "cell_type": "code",
   "execution_count": 20,
   "metadata": {},
   "outputs": [
    {
     "name": "stdout",
     "output_type": "stream",
     "text": [
      "<class 'list'>\n"
     ]
    }
   ],
   "source": [
    "print(type(values))"
   ]
  },
  {
   "cell_type": "markdown",
   "metadata": {},
   "source": [
    "* you can also put strings (=text) into the list or combine different data types (eg. integer, float, string, ...)"
   ]
  },
  {
   "cell_type": "code",
   "execution_count": 43,
   "metadata": {
    "id": "LSggTjZfiBzO"
   },
   "outputs": [
    {
     "name": "stdout",
     "output_type": "stream",
     "text": [
      "['Low', 'Medium', 'High']\n",
      "['John Doe', 'Janne Doe', 'Your neighbor']\n"
     ]
    }
   ],
   "source": [
    "income = ['Low', 'Medium', 'High']\n",
    "names = ['John Doe', 'Janne Doe', 'Your neighbor']\n",
    "\n",
    "print(income)\n",
    "print(names)"
   ]
  },
  {
   "cell_type": "code",
   "execution_count": 25,
   "metadata": {
    "id": "-0JQwZe6iBzW"
   },
   "outputs": [
    {
     "data": {
      "text/plain": [
       "['Janne Doe', 'Medium', 500000, 12.0, True]"
      ]
     },
     "execution_count": 25,
     "metadata": {},
     "output_type": "execute_result"
    }
   ],
   "source": [
    "features = ['Janne Doe', 'Medium', 500000, 12.0, True]\n",
    "features"
   ]
  },
  {
   "cell_type": "markdown",
   "metadata": {},
   "source": [
    "* Access parts of the list just like slicing a text."
   ]
  },
  {
   "cell_type": "code",
   "execution_count": 45,
   "metadata": {
    "id": "eyb6DqAEiBzY"
   },
   "outputs": [
    {
     "name": "stdout",
     "output_type": "stream",
     "text": [
      "Janne Doe\n",
      "Medium\n",
      "12.0\n"
     ]
    }
   ],
   "source": [
    "print(features[0])\n",
    "print(features[1])\n",
    "print(features[3])"
   ]
  },
  {
   "cell_type": "code",
   "execution_count": 31,
   "metadata": {},
   "outputs": [
    {
     "name": "stdout",
     "output_type": "stream",
     "text": [
      "['Janne Doe', 'Medium', 500000, 12.0]\n"
     ]
    }
   ],
   "source": [
    "print(features[:4])"
   ]
  },
  {
   "cell_type": "markdown",
   "metadata": {},
   "source": [
    "* Print itens from your list"
   ]
  },
  {
   "cell_type": "code",
   "execution_count": 27,
   "metadata": {
    "id": "fWtnmJMXiBza"
   },
   "outputs": [
    {
     "name": "stdout",
     "output_type": "stream",
     "text": [
      "hello all!\n",
      "hello all! I am Janne Doe\n"
     ]
    }
   ],
   "source": [
    "print(\"hello all!\")\n",
    "print('hello all! I am', features[0])"
   ]
  },
  {
   "cell_type": "markdown",
   "metadata": {},
   "source": [
    "* you can replace values by assigning them a value to a determined position in the list like this: (Be careful with the indexing - it starts at 0!)"
   ]
  },
  {
   "cell_type": "code",
   "execution_count": 29,
   "metadata": {},
   "outputs": [
    {
     "name": "stdout",
     "output_type": "stream",
     "text": [
      "['Janne Doe', 'Medium', 500000, 12.0, True]\n",
      "['Janne Doe', 'Medium', 500000, 12.0, 'hello all!']\n"
     ]
    }
   ],
   "source": [
    "print(features)\n",
    "features[4]='hello all!'\n",
    "print(features)"
   ]
  },
  {
   "cell_type": "markdown",
   "metadata": {},
   "source": [
    "* you can add values by using the build-in .append function like this:"
   ]
  },
  {
   "cell_type": "code",
   "execution_count": 30,
   "metadata": {
    "id": "ctyWTAhtiBzo"
   },
   "outputs": [
    {
     "name": "stdout",
     "output_type": "stream",
     "text": [
      "['Janne Doe', 'Medium', 500000, 12.0, 'hello all!', 'One more element in the list']\n"
     ]
    }
   ],
   "source": [
    "features.append('One more element in the list')\n",
    "print(features)"
   ]
  },
  {
   "cell_type": "markdown",
   "metadata": {
    "id": "TB9I4HZYiBzp"
   },
   "source": [
    "* you can remove values by using the build-in .remove function like this: "
   ]
  },
  {
   "cell_type": "code",
   "execution_count": 33,
   "metadata": {
    "id": "nCZO64DjiBzs"
   },
   "outputs": [],
   "source": [
    "features.remove(\"Medium\")"
   ]
  },
  {
   "cell_type": "code",
   "execution_count": 34,
   "metadata": {
    "id": "lGqvRDAOiBzu"
   },
   "outputs": [
    {
     "name": "stdout",
     "output_type": "stream",
     "text": [
      "['Janne Doe', 500000, 12.0, 'hello all!', 'One more element in the list']\n"
     ]
    }
   ],
   "source": [
    "print(features)"
   ]
  },
  {
   "cell_type": "markdown",
   "metadata": {
    "id": "_-yzacpOiB0F"
   },
   "source": [
    "# Dictionaries \n",
    "* Think of it like tables"
   ]
  },
  {
   "cell_type": "code",
   "execution_count": 39,
   "metadata": {
    "id": "YjMriwAWiB0G"
   },
   "outputs": [
    {
     "name": "stdout",
     "output_type": "stream",
     "text": [
      "{'Apples': 2, 'Bananas': 1}\n"
     ]
    }
   ],
   "source": [
    "# {key : value}\n",
    "words_frequencies = {'Apples': 2, 'Bananas': 1} \n",
    "print(words_frequencies)"
   ]
  },
  {
   "cell_type": "code",
   "execution_count": 40,
   "metadata": {},
   "outputs": [
    {
     "data": {
      "text/plain": [
       "{'Apples': 4, 'Bananas': 1}"
      ]
     },
     "execution_count": 40,
     "metadata": {},
     "output_type": "execute_result"
    }
   ],
   "source": [
    "words_frequencies['Apples'] = 4\n",
    "words_frequencies"
   ]
  },
  {
   "cell_type": "code",
   "execution_count": 41,
   "metadata": {},
   "outputs": [
    {
     "name": "stdout",
     "output_type": "stream",
     "text": [
      "4\n"
     ]
    }
   ],
   "source": [
    "print(words_frequencies['Apples'])"
   ]
  },
  {
   "cell_type": "code",
   "execution_count": 61,
   "metadata": {
    "id": "SBD9q_H-iB0H"
   },
   "outputs": [
    {
     "ename": "KeyError",
     "evalue": "'Orange'",
     "output_type": "error",
     "traceback": [
      "\u001b[1;31m---------------------------------------------------------------------------\u001b[0m",
      "\u001b[1;31mKeyError\u001b[0m                                  Traceback (most recent call last)",
      "\u001b[1;32m<ipython-input-61-7cb0ce2ed94d>\u001b[0m in \u001b[0;36m<module>\u001b[1;34m\u001b[0m\n\u001b[1;32m----> 1\u001b[1;33m \u001b[0mprint\u001b[0m\u001b[1;33m(\u001b[0m\u001b[0mwords_frequencies\u001b[0m\u001b[1;33m[\u001b[0m\u001b[1;34m'Orange'\u001b[0m\u001b[1;33m]\u001b[0m\u001b[1;33m)\u001b[0m\u001b[1;33m\u001b[0m\u001b[1;33m\u001b[0m\u001b[0m\n\u001b[0m",
      "\u001b[1;31mKeyError\u001b[0m: 'Orange'"
     ]
    }
   ],
   "source": [
    "print(words_frequencies['Orange'])"
   ]
  },
  {
   "cell_type": "code",
   "execution_count": 64,
   "metadata": {
    "id": "FQQPSDRPiB0M"
   },
   "outputs": [
    {
     "name": "stdout",
     "output_type": "stream",
     "text": [
      "{'abc': 3.2, 222: [0.8, 1], '123': None}\n"
     ]
    }
   ],
   "source": [
    "another_dict = {'abc': 3.2, 222: [0.8, 1], '123': None}\n",
    "print(another_dict)"
   ]
  },
  {
   "cell_type": "markdown",
   "metadata": {},
   "source": [
    "---"
   ]
  },
  {
   "cell_type": "markdown",
   "metadata": {
    "id": "ey13YctDiB0X"
   },
   "source": [
    "## Conditional Statements\n",
    "* if/else/elif, while "
   ]
  },
  {
   "cell_type": "code",
   "execution_count": 51,
   "metadata": {
    "id": "ITLLz3eIiB0Y"
   },
   "outputs": [
    {
     "name": "stdout",
     "output_type": "stream",
     "text": [
      "one is one\n"
     ]
    }
   ],
   "source": [
    "if 1 == 1: # python uses colon \":\" to indent the next code lines which defines scope & visualizes the program flow\n",
    "    print('one is one')"
   ]
  },
  {
   "cell_type": "code",
   "execution_count": 54,
   "metadata": {
    "id": "eG6IBfjiiB0d"
   },
   "outputs": [
    {
     "name": "stdout",
     "output_type": "stream",
     "text": [
      "a is bigger than 6\n"
     ]
    }
   ],
   "source": [
    "a = 7\n",
    "if a > 6:\n",
    "    print('a is bigger than 6')\n",
    "else:\n",
    "    print(\"a isn't bigger than 6\")    "
   ]
  },
  {
   "cell_type": "code",
   "execution_count": 61,
   "metadata": {},
   "outputs": [
    {
     "name": "stdout",
     "output_type": "stream",
     "text": [
      "a isn't bigger than 6 or 5\n"
     ]
    }
   ],
   "source": [
    "a = 4\n",
    "if a > 6:\n",
    "    print('a is bigger than 6')\n",
    "elif a > 5:\n",
    "    print('a is bigger than 5')\n",
    "elif a > 4:\n",
    "    print('a is bigger than 4')\n",
    "else:\n",
    "    print(\"a isn't bigger than 6 or 5\")    "
   ]
  },
  {
   "cell_type": "code",
   "execution_count": 65,
   "metadata": {
    "id": "dCVDtLheiB0g",
    "scrolled": true
   },
   "outputs": [
    {
     "name": "stdout",
     "output_type": "stream",
     "text": [
      "1\n",
      "2\n",
      "3\n",
      "4\n",
      "5\n",
      "6\n",
      "7\n",
      "8\n",
      "9\n",
      "10\n",
      "11\n",
      "12\n",
      "13\n",
      "14\n",
      "15\n",
      "16\n",
      "17\n",
      "18\n",
      "19\n"
     ]
    }
   ],
   "source": [
    "cnt = 1\n",
    "\n",
    "while cnt < 20:\n",
    "    print(cnt)\n",
    "    cnt = cnt + 1\n",
    "    \n",
    "    # be carefult with endless loops!\n"
   ]
  },
  {
   "cell_type": "code",
   "execution_count": 104,
   "metadata": {},
   "outputs": [
    {
     "name": "stdout",
     "output_type": "stream",
     "text": [
      "1\n",
      "2\n",
      "3\n",
      "4\n",
      "5\n",
      "6\n",
      "7\n",
      "8\n",
      "9\n",
      "10\n"
     ]
    }
   ],
   "source": [
    "cnt = 1\n",
    "\n",
    "while True:\n",
    "    print(cnt)\n",
    "    cnt = cnt + 1\n",
    "    if cnt > 10:\n",
    "        break\n",
    "    \n",
    "    # be careful with endless loops!\n"
   ]
  },
  {
   "cell_type": "markdown",
   "metadata": {},
   "source": [
    "---"
   ]
  },
  {
   "cell_type": "markdown",
   "metadata": {
    "id": "d5eplrQkiB0j"
   },
   "source": [
    "## Range "
   ]
  },
  {
   "cell_type": "code",
   "execution_count": 101,
   "metadata": {
    "id": "bnkkQeR2iB0j"
   },
   "outputs": [
    {
     "data": {
      "text/plain": [
       "[0, 1, 2, 3, 4, 5, 6, 7, 8, 9, 10]"
      ]
     },
     "execution_count": 101,
     "metadata": {},
     "output_type": "execute_result"
    }
   ],
   "source": [
    "a_list = [0,1,2,3,4,5,6,7,8,9,10]\n",
    "a_list"
   ]
  },
  {
   "cell_type": "markdown",
   "metadata": {},
   "source": [
    "Function lenght ```len()```"
   ]
  },
  {
   "cell_type": "code",
   "execution_count": 99,
   "metadata": {},
   "outputs": [
    {
     "data": {
      "text/plain": [
       "11"
      ]
     },
     "execution_count": 99,
     "metadata": {},
     "output_type": "execute_result"
    }
   ],
   "source": [
    "(len(a_list))"
   ]
  },
  {
   "cell_type": "code",
   "execution_count": 102,
   "metadata": {},
   "outputs": [
    {
     "data": {
      "text/plain": [
       "[0, 1, 2, 3, 4, 5, 6, 7, 8, 9, 10]"
      ]
     },
     "execution_count": 102,
     "metadata": {},
     "output_type": "execute_result"
    }
   ],
   "source": [
    "b_list = list(range(11))\n",
    "b_list"
   ]
  },
  {
   "cell_type": "markdown",
   "metadata": {},
   "source": [
    "---"
   ]
  },
  {
   "cell_type": "markdown",
   "metadata": {},
   "source": [
    "## Loops"
   ]
  },
  {
   "cell_type": "markdown",
   "metadata": {},
   "source": [
    "for ```variable``` in ```sequence```: <br>\n",
    "&emsp; body_of_loop that has set of statements <br>\n",
    "&emsp; which requires repeated execution"
   ]
  },
  {
   "cell_type": "markdown",
   "metadata": {},
   "source": [
    "Here ```<variable>``` is a variable that is used for iterating over a ```<sequence>```. On every iteration it takes the next value from ```<sequence>```  until the end of sequence is reached."
   ]
  },
  {
   "cell_type": "code",
   "execution_count": 95,
   "metadata": {},
   "outputs": [],
   "source": [
    "c_list = [8,7,6,5,4,3,2,1]"
   ]
  },
  {
   "cell_type": "code",
   "execution_count": 96,
   "metadata": {},
   "outputs": [
    {
     "name": "stdout",
     "output_type": "stream",
     "text": [
      "8\n",
      "7\n",
      "6\n",
      "5\n",
      "4\n",
      "3\n",
      "2\n",
      "1\n"
     ]
    }
   ],
   "source": [
    "for i in c_list:\n",
    "    print(i)"
   ]
  },
  {
   "cell_type": "code",
   "execution_count": 97,
   "metadata": {},
   "outputs": [
    {
     "name": "stdout",
     "output_type": "stream",
     "text": [
      "64\n",
      "49\n",
      "36\n",
      "25\n",
      "16\n",
      "9\n",
      "4\n",
      "1\n",
      "Program Finished!\n"
     ]
    }
   ],
   "source": [
    "for i in c_list:\n",
    "    sq = i * i\n",
    "    print(sq)\n",
    "print(\"Program Finished!\")"
   ]
  },
  {
   "cell_type": "code",
   "execution_count": 110,
   "metadata": {},
   "outputs": [
    {
     "name": "stdout",
     "output_type": "stream",
     "text": [
      "8\n",
      "7\n",
      "6\n",
      "5\n",
      "4\n",
      "3\n",
      "2\n",
      "1\n"
     ]
    }
   ],
   "source": [
    "for i in range(8):\n",
    "    print(c_list[i])"
   ]
  },
  {
   "cell_type": "markdown",
   "metadata": {},
   "source": [
    "# TASK"
   ]
  },
  {
   "cell_type": "code",
   "execution_count": 88,
   "metadata": {},
   "outputs": [
    {
     "name": "stdout",
     "output_type": "stream",
     "text": [
      "33\n",
      "55\n",
      "12\n",
      "33\n",
      "6\n"
     ]
    }
   ],
   "source": [
    "# Write a for loop, where you print out each element of test_list list, if the element is bigger that 5.\n",
    "test_list = [1,2,3,33,55,12,33,0,2,5,6]\n",
    "# YOUR CODE HERE\n"
   ]
  },
  {
   "cell_type": "markdown",
   "metadata": {},
   "source": [
    "---"
   ]
  },
  {
   "cell_type": "markdown",
   "metadata": {
    "id": "TI3F4znDiB0v"
   },
   "source": [
    "## Functions"
   ]
  },
  {
   "cell_type": "code",
   "execution_count": 89,
   "metadata": {
    "id": "2t-beFs9iB0v"
   },
   "outputs": [],
   "source": [
    "def function_name():\n",
    "    a = 2 \n",
    "    b = 5\n",
    "    c = a + b\n",
    "    return c "
   ]
  },
  {
   "cell_type": "code",
   "execution_count": 91,
   "metadata": {
    "id": "B7fVSpD7iB0w"
   },
   "outputs": [
    {
     "data": {
      "text/plain": [
       "7"
      ]
     },
     "execution_count": 91,
     "metadata": {},
     "output_type": "execute_result"
    }
   ],
   "source": [
    "function_name()"
   ]
  },
  {
   "cell_type": "code",
   "execution_count": 93,
   "metadata": {
    "id": "cg62DQ-0iB0z"
   },
   "outputs": [],
   "source": [
    "# Replace\n",
    "def multiplication(a,b):\n",
    "    return a*b"
   ]
  },
  {
   "cell_type": "code",
   "execution_count": 94,
   "metadata": {
    "id": "tP86BbXqiB01"
   },
   "outputs": [
    {
     "data": {
      "text/plain": [
       "10"
      ]
     },
     "execution_count": 94,
     "metadata": {},
     "output_type": "execute_result"
    }
   ],
   "source": [
    "multiplication(2,5)"
   ]
  },
  {
   "cell_type": "markdown",
   "metadata": {},
   "source": [
    "# TASK\n",
    "Write a function for comparing two numbers. The function should return the bigger value:\n",
    "\n",
    "```python\n",
    "def compare(a,b):\n",
    "    ....\n",
    "# for example\n",
    "compare(1,2)\n",
    "> 2\n",
    "    \n",
    "```"
   ]
  },
  {
   "cell_type": "code",
   "execution_count": 88,
   "metadata": {},
   "outputs": [
    {
     "data": {
      "text/plain": [
       "2"
      ]
     },
     "execution_count": 88,
     "metadata": {},
     "output_type": "execute_result"
    }
   ],
   "source": [
    "# YOUR CODE HERE\n"
   ]
  },
  {
   "cell_type": "markdown",
   "metadata": {
    "id": "1uBJa6hmiB02"
   },
   "source": [
    "***"
   ]
  }
 ],
 "metadata": {
  "colab": {
   "name": "Kopie von 1.Python.ipynb",
   "provenance": [
    {
     "file_id": "1RxYs1V_osMd8xq8vk-ArcLY-GUphtzsr",
     "timestamp": 1601539578767
    },
    {
     "file_id": "https://github.com/unnir/data_science_tutorials_uni/blob/master/tutorial_1/1.Python.ipynb",
     "timestamp": 1571650597514
    }
   ]
  },
  "kernelspec": {
   "display_name": "Python 3",
   "language": "python",
   "name": "python3"
  },
  "language_info": {
   "codemirror_mode": {
    "name": "ipython",
    "version": 3
   },
   "file_extension": ".py",
   "mimetype": "text/x-python",
   "name": "python",
   "nbconvert_exporter": "python",
   "pygments_lexer": "ipython3",
   "version": "3.8.3"
  }
 },
 "nbformat": 4,
 "nbformat_minor": 4
}
