{
 "cells": [
  {
   "cell_type": "markdown",
   "metadata": {},
   "source": [
    "# Python for Managers | Classroom | 2021\n",
    "\n",
    "-----\n",
    "## Matplotlib\n",
    "-----"
   ]
  },
  {
   "cell_type": "code",
   "execution_count": 1,
   "metadata": {},
   "outputs": [],
   "source": [
    "# Matplotlib is used for all kinds of visualization tasks\n",
    "import matplotlib.pyplot as plt"
   ]
  },
  {
   "cell_type": "markdown",
   "metadata": {},
   "source": [
    "### Template code for plotting"
   ]
  },
  {
   "cell_type": "code",
   "execution_count": 8,
   "metadata": {},
   "outputs": [
    {
     "data": {
      "image/png": "[encoded data removed]",
      "text/plain": [
       "<Figure size 432x288 with 1 Axes>"
      ]
     },
     "metadata": {
      "needs_background": "light"
     },
     "output_type": "display_data"
    }
   ],
   "source": [
    "x = [1,2,3,4]                                    # prepare data\n",
    "y = [10,20,25,30]\n",
    "fig = plt.figure()                               # create plot\n",
    "ax = fig.add_subplot(111)                        # subplot for multiple plots (row-col-sum)\n",
    "ax.plot(x, y, color=\"lightblue\", label=\"Line\")   # customize plot (depends on the usecase)\n",
    "ax.scatter([2,4,6],\n",
    "          [5,15,25],\n",
    "          color=\"red\",\n",
    "          marker=\"x\",\n",
    "          label=\"Scatter\")\n",
    "ax.set_xlim(1, 6.5)\n",
    "ax.set_title(\"Example plot\")\n",
    "ax.legend()\n",
    "plt.show()                                       # Show the plot"
   ]
  },
  {
   "cell_type": "code",
   "execution_count": null,
   "metadata": {},
   "outputs": [],
   "source": []
  }
 ],
 "metadata": {
  "kernelspec": {
   "display_name": "Python 3",
   "language": "python",
   "name": "python3"
  },
  "language_info": {
   "codemirror_mode": {
    "name": "ipython",
    "version": 3
   },
   "file_extension": ".py",
   "mimetype": "text/x-python",
   "name": "python",
   "nbconvert_exporter": "python",
   "pygments_lexer": "ipython3",
   "version": "3.8.3"
  }
 },
 "nbformat": 4,
 "nbformat_minor": 4
}
